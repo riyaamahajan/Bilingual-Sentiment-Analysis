{
  "metadata": {
    "kernelspec": {
      "language": "python",
      "display_name": "Python 3",
      "name": "python3"
    },
    "language_info": {
      "name": "python",
      "version": "3.10.13",
      "mimetype": "text/x-python",
      "codemirror_mode": {
        "name": "ipython",
        "version": 3
      },
      "pygments_lexer": "ipython3",
      "nbconvert_exporter": "python",
      "file_extension": ".py"
    },
    "kaggle": {
      "accelerator": "gpu",
      "dataSources": [
        {
          "sourceId": 8154391,
          "sourceType": "datasetVersion",
          "datasetId": 4823291
        }
      ],
      "dockerImageVersionId": 30683,
      "isInternetEnabled": true,
      "language": "python",
      "sourceType": "notebook",
      "isGpuEnabled": true
    },
    "colab": {
      "provenance": [],
      "include_colab_link": true
    }
  },
  "nbformat_minor": 0,
  "nbformat": 4,
  "cells": [
    {
      "cell_type": "markdown",
      "metadata": {
        "id": "view-in-github",
        "colab_type": "text"
      },
      "source": [
        "<a href=\"https://colab.research.google.com/github/riyaamahajan/Bilingual-Sentiment-Analysis/blob/main/lstm_bilstm_saocmt.ipynb\" target=\"_parent\"><img src=\"https://colab.research.google.com/assets/colab-badge.svg\" alt=\"Open In Colab\"/></a>"
      ]
    },
    {
      "cell_type": "code",
      "source": [
        "# This Python 3 environment comes with many helpful analytics libraries installed\n",
        "# It is defined by the kaggle/python Docker image: https://github.com/kaggle/docker-python\n",
        "# For example, here's several helpful packages to load\n",
        "\n",
        "import numpy as np # linear algebra\n",
        "import pandas as pd # data processing, CSV file I/O (e.g. pd.read_csv)\n",
        "\n",
        "# Input data files are available in the read-only \"../input/\" directory\n",
        "# For example, running this (by clicking run or pressing Shift+Enter) will list all files under the input directory\n",
        "\n",
        "import os\n",
        "for dirname, _, filenames in os.walk('/kaggle/input'):\n",
        "    for filename in filenames:\n",
        "        print(os.path.join(dirname, filename))\n",
        "\n",
        "# You can write up to 20GB to the current directory (/kaggle/working/) that gets preserved as output when you create a version using \"Save & Run All\"\n",
        "# You can also write temporary files to /kaggle/temp/, but they won't be saved outside of the current session"
      ],
      "metadata": {
        "_uuid": "8f2839f25d086af736a60e9eeb907d3b93b6e0e5",
        "_cell_guid": "b1076dfc-b9ad-4769-8c92-a6c4dae69d19",
        "execution": {
          "iopub.status.busy": "2024-04-18T17:04:58.631442Z",
          "iopub.execute_input": "2024-04-18T17:04:58.632279Z",
          "iopub.status.idle": "2024-04-18T17:04:58.654973Z",
          "shell.execute_reply.started": "2024-04-18T17:04:58.632239Z",
          "shell.execute_reply": "2024-04-18T17:04:58.654089Z"
        },
        "trusted": true,
        "id": "mwEWGu4tPSEA",
        "outputId": "f08e90f2-911a-42b6-8d2a-c9aad5ec614a"
      },
      "execution_count": null,
      "outputs": [
        {
          "name": "stdout",
          "text": "/kaggle/input/codemixed-hinglish/labeled_final_test_dataset.csv\n/kaggle/input/codemixed-hinglish/labeled_final_train_dataset.csv\n",
          "output_type": "stream"
        }
      ]
    },
    {
      "cell_type": "code",
      "source": [
        "data1 = pd.read_csv('/kaggle/input/codemixed-hinglish/labeled_final_test_dataset.csv')\n",
        "data2 = pd.read_csv('/kaggle/input/codemixed-hinglish/labeled_final_train_dataset.csv')"
      ],
      "metadata": {
        "execution": {
          "iopub.status.busy": "2024-04-18T17:04:59.399014Z",
          "iopub.execute_input": "2024-04-18T17:04:59.399444Z",
          "iopub.status.idle": "2024-04-18T17:04:59.527666Z",
          "shell.execute_reply.started": "2024-04-18T17:04:59.399408Z",
          "shell.execute_reply": "2024-04-18T17:04:59.526926Z"
        },
        "trusted": true,
        "id": "WsCgQ--dPSED"
      },
      "execution_count": null,
      "outputs": []
    },
    {
      "cell_type": "code",
      "source": [
        "df = pd.concat([data1, data2], ignore_index=True)"
      ],
      "metadata": {
        "execution": {
          "iopub.status.busy": "2024-04-18T17:05:00.488837Z",
          "iopub.execute_input": "2024-04-18T17:05:00.489620Z",
          "iopub.status.idle": "2024-04-18T17:05:00.494782Z",
          "shell.execute_reply.started": "2024-04-18T17:05:00.489591Z",
          "shell.execute_reply": "2024-04-18T17:05:00.493863Z"
        },
        "trusted": true,
        "id": "UAy96WgSPSED"
      },
      "execution_count": null,
      "outputs": []
    },
    {
      "cell_type": "code",
      "source": [
        "import xgboost as xgb\n",
        "from sklearn.metrics import accuracy_score\n",
        "from sklearn.model_selection import train_test_split"
      ],
      "metadata": {
        "execution": {
          "iopub.status.busy": "2024-04-18T17:05:01.784316Z",
          "iopub.execute_input": "2024-04-18T17:05:01.785263Z",
          "iopub.status.idle": "2024-04-18T17:05:01.939114Z",
          "shell.execute_reply.started": "2024-04-18T17:05:01.785221Z",
          "shell.execute_reply": "2024-04-18T17:05:01.938150Z"
        },
        "trusted": true,
        "id": "1XdZSFM_PSED"
      },
      "execution_count": null,
      "outputs": []
    },
    {
      "cell_type": "markdown",
      "source": [
        "LSTM Implementation"
      ],
      "metadata": {
        "id": "sbH7A262PSED"
      }
    },
    {
      "cell_type": "code",
      "source": [
        "##########################LSTM IMPLEMENTATION##############################\n",
        "import matplotlib.pyplot as plt\n",
        "import seaborn as sns\n",
        "from tensorflow.keras.preprocessing.text import Tokenizer\n",
        "from keras.preprocessing.sequence import pad_sequences\n",
        "from keras.models import Sequential\n",
        "from keras.layers import Dense, Embedding, LSTM, SpatialDropout1D\n",
        "from sklearn.model_selection import train_test_split\n",
        "from keras.utils import to_categorical\n",
        "from keras.callbacks import EarlyStopping\n",
        "from keras.layers import Dropout\n",
        "import re\n",
        "#LSTM Implementation\n",
        "# The maximum number of words to be used. (most frequent)\n",
        "MAX_NB_WORDS = 14000\n",
        "# Max number of words in each complaint.\n",
        "MAX_SEQUENCE_LENGTH = 250\n",
        "# This is fixed.\n",
        "EMBEDDING_DIM = 100\n",
        "\n",
        "tokenizer = Tokenizer(num_words=MAX_NB_WORDS, filters='!\"#$%&()*+,-./:;<=>?@[\\]^_`{|}~', lower=True)\n",
        "tokenizer.fit_on_texts(df['Cleaned_Text'].values)\n",
        "word_index = tokenizer.word_index\n",
        "print('Found %s unique tokens.' % len(word_index))"
      ],
      "metadata": {
        "execution": {
          "iopub.status.busy": "2024-04-18T17:05:03.605757Z",
          "iopub.execute_input": "2024-04-18T17:05:03.606414Z",
          "iopub.status.idle": "2024-04-18T17:05:04.165653Z",
          "shell.execute_reply.started": "2024-04-18T17:05:03.606380Z",
          "shell.execute_reply": "2024-04-18T17:05:04.164708Z"
        },
        "trusted": true,
        "id": "ZCkmIwO_PSEE",
        "outputId": "a1e9f991-fafd-40a1-db83-d8067bde7ef5"
      },
      "execution_count": null,
      "outputs": [
        {
          "name": "stdout",
          "text": "Found 31672 unique tokens.\n",
          "output_type": "stream"
        }
      ]
    },
    {
      "cell_type": "code",
      "source": [
        "X = tokenizer.texts_to_sequences(df['Cleaned_Text'].values)\n",
        "X = pad_sequences(X, maxlen=MAX_SEQUENCE_LENGTH)\n",
        "print('Shape of data tensor:', X.shape)"
      ],
      "metadata": {
        "execution": {
          "iopub.status.busy": "2024-04-18T12:58:51.477216Z",
          "iopub.execute_input": "2024-04-18T12:58:51.477879Z",
          "iopub.status.idle": "2024-04-18T12:58:51.776758Z",
          "shell.execute_reply.started": "2024-04-18T12:58:51.477843Z",
          "shell.execute_reply": "2024-04-18T12:58:51.775848Z"
        },
        "trusted": true,
        "id": "dodswHaOPSEE",
        "outputId": "e10ab46d-1d9a-4c60-c65e-a75e238508e5"
      },
      "execution_count": null,
      "outputs": [
        {
          "name": "stdout",
          "text": "Shape of data tensor: (16999, 250)\n",
          "output_type": "stream"
        }
      ]
    },
    {
      "cell_type": "code",
      "source": [
        "Y = pd.get_dummies(df['Sentiment']).values\n",
        "print('Shape of label tensor:', Y.shape)"
      ],
      "metadata": {
        "execution": {
          "iopub.status.busy": "2024-04-18T12:58:53.819944Z",
          "iopub.execute_input": "2024-04-18T12:58:53.820653Z",
          "iopub.status.idle": "2024-04-18T12:58:53.827035Z",
          "shell.execute_reply.started": "2024-04-18T12:58:53.820614Z",
          "shell.execute_reply": "2024-04-18T12:58:53.826171Z"
        },
        "trusted": true,
        "id": "hH6sdyerPSEF",
        "outputId": "143203c6-afc9-4204-aadc-762c5c3ef4fb"
      },
      "execution_count": null,
      "outputs": [
        {
          "name": "stdout",
          "text": "Shape of label tensor: (16999, 3)\n",
          "output_type": "stream"
        }
      ]
    },
    {
      "cell_type": "code",
      "source": [
        "X_train, X_test, Y_train, Y_test = train_test_split(X,Y, test_size = 0.20, random_state = 42)\n",
        "print(X_train.shape,Y_train.shape)\n",
        "print(X_test.shape,Y_test.shape)"
      ],
      "metadata": {
        "execution": {
          "iopub.status.busy": "2024-04-18T12:58:54.648904Z",
          "iopub.execute_input": "2024-04-18T12:58:54.649255Z",
          "iopub.status.idle": "2024-04-18T12:58:54.666088Z",
          "shell.execute_reply.started": "2024-04-18T12:58:54.649227Z",
          "shell.execute_reply": "2024-04-18T12:58:54.664967Z"
        },
        "trusted": true,
        "id": "3INw9Uw7PSEF",
        "outputId": "cedef16f-ed27-4f2a-89b8-4e00a0babf39"
      },
      "execution_count": null,
      "outputs": [
        {
          "name": "stdout",
          "text": "(13599, 250) (13599, 3)\n(3400, 250) (3400, 3)\n",
          "output_type": "stream"
        }
      ]
    },
    {
      "cell_type": "code",
      "source": [
        "# variables_for_classification=3 #change it as per your number of categories\n",
        "model = Sequential()\n",
        "# model.add(Dense(variables_for_classification, activation='softmax'))\n",
        "model.add(Embedding(MAX_NB_WORDS, EMBEDDING_DIM))\n",
        "model.add(SpatialDropout1D(0.2))\n",
        "model.add(LSTM(100, dropout=0.2, recurrent_dropout=0.2))\n",
        "model.add(Dense(13, activation='softmax'))\n",
        "model.add(Dense(3, activation='softmax'))\n",
        "model.compile(loss='categorical_crossentropy', optimizer='adam', metrics=['accuracy'])\n",
        "print(model.summary())"
      ],
      "metadata": {
        "execution": {
          "iopub.status.busy": "2024-04-18T13:09:11.863483Z",
          "iopub.execute_input": "2024-04-18T13:09:11.864089Z",
          "iopub.status.idle": "2024-04-18T13:09:11.896407Z",
          "shell.execute_reply.started": "2024-04-18T13:09:11.864056Z",
          "shell.execute_reply": "2024-04-18T13:09:11.895573Z"
        },
        "trusted": true,
        "id": "t6SIDnURPSEF",
        "outputId": "5da69891-331e-4191-93e7-4b09adab7597"
      },
      "execution_count": null,
      "outputs": [
        {
          "output_type": "display_data",
          "data": {
            "text/plain": "\u001b[1mModel: \"sequential_11\"\u001b[0m\n",
            "text/html": "<pre style=\"white-space:pre;overflow-x:auto;line-height:normal;font-family:Menlo,'DejaVu Sans Mono',consolas,'Courier New',monospace\"><span style=\"font-weight: bold\">Model: \"sequential_11\"</span>\n</pre>\n"
          },
          "metadata": {}
        },
        {
          "output_type": "display_data",
          "data": {
            "text/plain": "┏━━━━━━━━━━━━━━━━━━━━━━━━━━━━━━━━━┳━━━━━━━━━━━━━━━━━━━━━━━━┳━━━━━━━━━━━━━━━┓\n┃\u001b[1m \u001b[0m\u001b[1mLayer (type)                   \u001b[0m\u001b[1m \u001b[0m┃\u001b[1m \u001b[0m\u001b[1mOutput Shape          \u001b[0m\u001b[1m \u001b[0m┃\u001b[1m \u001b[0m\u001b[1m      Param #\u001b[0m\u001b[1m \u001b[0m┃\n┡━━━━━━━━━━━━━━━━━━━━━━━━━━━━━━━━━╇━━━━━━━━━━━━━━━━━━━━━━━━╇━━━━━━━━━━━━━━━┩\n│ embedding_11 (\u001b[38;5;33mEmbedding\u001b[0m)        │ ?                      │   \u001b[38;5;34m0\u001b[0m (unbuilt) │\n├─────────────────────────────────┼────────────────────────┼───────────────┤\n│ spatial_dropout1d_2             │ ?                      │             \u001b[38;5;34m0\u001b[0m │\n│ (\u001b[38;5;33mSpatialDropout1D\u001b[0m)              │                        │               │\n├─────────────────────────────────┼────────────────────────┼───────────────┤\n│ lstm_1 (\u001b[38;5;33mLSTM\u001b[0m)                   │ ?                      │   \u001b[38;5;34m0\u001b[0m (unbuilt) │\n├─────────────────────────────────┼────────────────────────┼───────────────┤\n│ dense_2 (\u001b[38;5;33mDense\u001b[0m)                 │ ?                      │   \u001b[38;5;34m0\u001b[0m (unbuilt) │\n├─────────────────────────────────┼────────────────────────┼───────────────┤\n│ dense_3 (\u001b[38;5;33mDense\u001b[0m)                 │ ?                      │   \u001b[38;5;34m0\u001b[0m (unbuilt) │\n└─────────────────────────────────┴────────────────────────┴───────────────┘\n",
            "text/html": "<pre style=\"white-space:pre;overflow-x:auto;line-height:normal;font-family:Menlo,'DejaVu Sans Mono',consolas,'Courier New',monospace\">┏━━━━━━━━━━━━━━━━━━━━━━━━━━━━━━━━━┳━━━━━━━━━━━━━━━━━━━━━━━━┳━━━━━━━━━━━━━━━┓\n┃<span style=\"font-weight: bold\"> Layer (type)                    </span>┃<span style=\"font-weight: bold\"> Output Shape           </span>┃<span style=\"font-weight: bold\">       Param # </span>┃\n┡━━━━━━━━━━━━━━━━━━━━━━━━━━━━━━━━━╇━━━━━━━━━━━━━━━━━━━━━━━━╇━━━━━━━━━━━━━━━┩\n│ embedding_11 (<span style=\"color: #0087ff; text-decoration-color: #0087ff\">Embedding</span>)        │ ?                      │   <span style=\"color: #00af00; text-decoration-color: #00af00\">0</span> (unbuilt) │\n├─────────────────────────────────┼────────────────────────┼───────────────┤\n│ spatial_dropout1d_2             │ ?                      │             <span style=\"color: #00af00; text-decoration-color: #00af00\">0</span> │\n│ (<span style=\"color: #0087ff; text-decoration-color: #0087ff\">SpatialDropout1D</span>)              │                        │               │\n├─────────────────────────────────┼────────────────────────┼───────────────┤\n│ lstm_1 (<span style=\"color: #0087ff; text-decoration-color: #0087ff\">LSTM</span>)                   │ ?                      │   <span style=\"color: #00af00; text-decoration-color: #00af00\">0</span> (unbuilt) │\n├─────────────────────────────────┼────────────────────────┼───────────────┤\n│ dense_2 (<span style=\"color: #0087ff; text-decoration-color: #0087ff\">Dense</span>)                 │ ?                      │   <span style=\"color: #00af00; text-decoration-color: #00af00\">0</span> (unbuilt) │\n├─────────────────────────────────┼────────────────────────┼───────────────┤\n│ dense_3 (<span style=\"color: #0087ff; text-decoration-color: #0087ff\">Dense</span>)                 │ ?                      │   <span style=\"color: #00af00; text-decoration-color: #00af00\">0</span> (unbuilt) │\n└─────────────────────────────────┴────────────────────────┴───────────────┘\n</pre>\n"
          },
          "metadata": {}
        },
        {
          "output_type": "display_data",
          "data": {
            "text/plain": "\u001b[1m Total params: \u001b[0m\u001b[38;5;34m0\u001b[0m (0.00 B)\n",
            "text/html": "<pre style=\"white-space:pre;overflow-x:auto;line-height:normal;font-family:Menlo,'DejaVu Sans Mono',consolas,'Courier New',monospace\"><span style=\"font-weight: bold\"> Total params: </span><span style=\"color: #00af00; text-decoration-color: #00af00\">0</span> (0.00 B)\n</pre>\n"
          },
          "metadata": {}
        },
        {
          "output_type": "display_data",
          "data": {
            "text/plain": "\u001b[1m Trainable params: \u001b[0m\u001b[38;5;34m0\u001b[0m (0.00 B)\n",
            "text/html": "<pre style=\"white-space:pre;overflow-x:auto;line-height:normal;font-family:Menlo,'DejaVu Sans Mono',consolas,'Courier New',monospace\"><span style=\"font-weight: bold\"> Trainable params: </span><span style=\"color: #00af00; text-decoration-color: #00af00\">0</span> (0.00 B)\n</pre>\n"
          },
          "metadata": {}
        },
        {
          "output_type": "display_data",
          "data": {
            "text/plain": "\u001b[1m Non-trainable params: \u001b[0m\u001b[38;5;34m0\u001b[0m (0.00 B)\n",
            "text/html": "<pre style=\"white-space:pre;overflow-x:auto;line-height:normal;font-family:Menlo,'DejaVu Sans Mono',consolas,'Courier New',monospace\"><span style=\"font-weight: bold\"> Non-trainable params: </span><span style=\"color: #00af00; text-decoration-color: #00af00\">0</span> (0.00 B)\n</pre>\n"
          },
          "metadata": {}
        },
        {
          "name": "stdout",
          "text": "None\n",
          "output_type": "stream"
        }
      ]
    },
    {
      "cell_type": "code",
      "source": [
        "epochs = 100\n",
        "batch_size = 64\n",
        "history = model.fit(X_train, Y_train, epochs=epochs, batch_size=batch_size,validation_split=0.1)"
      ],
      "metadata": {
        "execution": {
          "iopub.status.busy": "2024-04-18T13:09:22.956816Z",
          "iopub.execute_input": "2024-04-18T13:09:22.957523Z",
          "iopub.status.idle": "2024-04-18T15:02:58.598950Z",
          "shell.execute_reply.started": "2024-04-18T13:09:22.957494Z",
          "shell.execute_reply": "2024-04-18T15:02:58.598035Z"
        },
        "trusted": true,
        "id": "gNAWsyn5PSEF",
        "outputId": "2f52866d-3404-4337-da6d-d70a5d6a0af7"
      },
      "execution_count": null,
      "outputs": [
        {
          "name": "stdout",
          "text": "Epoch 1/100\n\u001b[1m192/192\u001b[0m \u001b[32m━━━━━━━━━━━━━━━━━━━━\u001b[0m\u001b[37m\u001b[0m \u001b[1m68s\u001b[0m 341ms/step - accuracy: 0.3751 - loss: 1.0857 - val_accuracy: 0.5066 - val_loss: 0.9589\nEpoch 2/100\n\u001b[1m192/192\u001b[0m \u001b[32m━━━━━━━━━━━━━━━━━━━━\u001b[0m\u001b[37m\u001b[0m \u001b[1m65s\u001b[0m 340ms/step - accuracy: 0.5474 - loss: 0.9118 - val_accuracy: 0.5103 - val_loss: 0.9107\nEpoch 3/100\n\u001b[1m192/192\u001b[0m \u001b[32m━━━━━━━━━━━━━━━━━━━━\u001b[0m\u001b[37m\u001b[0m \u001b[1m65s\u001b[0m 339ms/step - accuracy: 0.6475 - loss: 0.8128 - val_accuracy: 0.5831 - val_loss: 0.9000\nEpoch 4/100\n\u001b[1m192/192\u001b[0m \u001b[32m━━━━━━━━━━━━━━━━━━━━\u001b[0m\u001b[37m\u001b[0m \u001b[1m65s\u001b[0m 340ms/step - accuracy: 0.7948 - loss: 0.6651 - val_accuracy: 0.5779 - val_loss: 0.9428\nEpoch 5/100\n\u001b[1m192/192\u001b[0m \u001b[32m━━━━━━━━━━━━━━━━━━━━\u001b[0m\u001b[37m\u001b[0m \u001b[1m65s\u001b[0m 339ms/step - accuracy: 0.8511 - loss: 0.5361 - val_accuracy: 0.5941 - val_loss: 0.9611\nEpoch 6/100\n\u001b[1m192/192\u001b[0m \u001b[32m━━━━━━━━━━━━━━━━━━━━\u001b[0m\u001b[37m\u001b[0m \u001b[1m66s\u001b[0m 342ms/step - accuracy: 0.8832 - loss: 0.4497 - val_accuracy: 0.5574 - val_loss: 1.0535\nEpoch 7/100\n\u001b[1m192/192\u001b[0m \u001b[32m━━━━━━━━━━━━━━━━━━━━\u001b[0m\u001b[37m\u001b[0m \u001b[1m65s\u001b[0m 339ms/step - accuracy: 0.8966 - loss: 0.4054 - val_accuracy: 0.5676 - val_loss: 1.0914\nEpoch 8/100\n\u001b[1m192/192\u001b[0m \u001b[32m━━━━━━━━━━━━━━━━━━━━\u001b[0m\u001b[37m\u001b[0m \u001b[1m65s\u001b[0m 340ms/step - accuracy: 0.9063 - loss: 0.3663 - val_accuracy: 0.5640 - val_loss: 1.1454\nEpoch 9/100\n\u001b[1m192/192\u001b[0m \u001b[32m━━━━━━━━━━━━━━━━━━━━\u001b[0m\u001b[37m\u001b[0m \u001b[1m65s\u001b[0m 341ms/step - accuracy: 0.9166 - loss: 0.3354 - val_accuracy: 0.5706 - val_loss: 1.1740\nEpoch 10/100\n\u001b[1m192/192\u001b[0m \u001b[32m━━━━━━━━━━━━━━━━━━━━\u001b[0m\u001b[37m\u001b[0m \u001b[1m82s\u001b[0m 342ms/step - accuracy: 0.9240 - loss: 0.3106 - val_accuracy: 0.5618 - val_loss: 1.2330\nEpoch 11/100\n\u001b[1m192/192\u001b[0m \u001b[32m━━━━━━━━━━━━━━━━━━━━\u001b[0m\u001b[37m\u001b[0m \u001b[1m82s\u001b[0m 341ms/step - accuracy: 0.9267 - loss: 0.2948 - val_accuracy: 0.5647 - val_loss: 1.2381\nEpoch 12/100\n\u001b[1m192/192\u001b[0m \u001b[32m━━━━━━━━━━━━━━━━━━━━\u001b[0m\u001b[37m\u001b[0m \u001b[1m65s\u001b[0m 340ms/step - accuracy: 0.9303 - loss: 0.2838 - val_accuracy: 0.5625 - val_loss: 1.2922\nEpoch 13/100\n\u001b[1m192/192\u001b[0m \u001b[32m━━━━━━━━━━━━━━━━━━━━\u001b[0m\u001b[37m\u001b[0m \u001b[1m66s\u001b[0m 341ms/step - accuracy: 0.9360 - loss: 0.2632 - val_accuracy: 0.5544 - val_loss: 1.3405\nEpoch 14/100\n\u001b[1m192/192\u001b[0m \u001b[32m━━━━━━━━━━━━━━━━━━━━\u001b[0m\u001b[37m\u001b[0m \u001b[1m65s\u001b[0m 341ms/step - accuracy: 0.9375 - loss: 0.2521 - val_accuracy: 0.5699 - val_loss: 1.3199\nEpoch 15/100\n\u001b[1m192/192\u001b[0m \u001b[32m━━━━━━━━━━━━━━━━━━━━\u001b[0m\u001b[37m\u001b[0m \u001b[1m66s\u001b[0m 343ms/step - accuracy: 0.9417 - loss: 0.2411 - val_accuracy: 0.5610 - val_loss: 1.3444\nEpoch 16/100\n\u001b[1m192/192\u001b[0m \u001b[32m━━━━━━━━━━━━━━━━━━━━\u001b[0m\u001b[37m\u001b[0m \u001b[1m66s\u001b[0m 343ms/step - accuracy: 0.9430 - loss: 0.2320 - val_accuracy: 0.5662 - val_loss: 1.3797\nEpoch 17/100\n\u001b[1m192/192\u001b[0m \u001b[32m━━━━━━━━━━━━━━━━━━━━\u001b[0m\u001b[37m\u001b[0m \u001b[1m66s\u001b[0m 342ms/step - accuracy: 0.9437 - loss: 0.2245 - val_accuracy: 0.5574 - val_loss: 1.3956\nEpoch 18/100\n\u001b[1m192/192\u001b[0m \u001b[32m━━━━━━━━━━━━━━━━━━━━\u001b[0m\u001b[37m\u001b[0m \u001b[1m66s\u001b[0m 342ms/step - accuracy: 0.9478 - loss: 0.2133 - val_accuracy: 0.5596 - val_loss: 1.4081\nEpoch 19/100\n\u001b[1m192/192\u001b[0m \u001b[32m━━━━━━━━━━━━━━━━━━━━\u001b[0m\u001b[37m\u001b[0m \u001b[1m65s\u001b[0m 341ms/step - accuracy: 0.9518 - loss: 0.1903 - val_accuracy: 0.5603 - val_loss: 1.4762\nEpoch 20/100\n\u001b[1m192/192\u001b[0m \u001b[32m━━━━━━━━━━━━━━━━━━━━\u001b[0m\u001b[37m\u001b[0m \u001b[1m66s\u001b[0m 344ms/step - accuracy: 0.9576 - loss: 0.1774 - val_accuracy: 0.5603 - val_loss: 1.4643\nEpoch 21/100\n\u001b[1m192/192\u001b[0m \u001b[32m━━━━━━━━━━━━━━━━━━━━\u001b[0m\u001b[37m\u001b[0m \u001b[1m66s\u001b[0m 344ms/step - accuracy: 0.9595 - loss: 0.1664 - val_accuracy: 0.5529 - val_loss: 1.5320\nEpoch 22/100\n\u001b[1m192/192\u001b[0m \u001b[32m━━━━━━━━━━━━━━━━━━━━\u001b[0m\u001b[37m\u001b[0m \u001b[1m66s\u001b[0m 342ms/step - accuracy: 0.9597 - loss: 0.1629 - val_accuracy: 0.5441 - val_loss: 1.5715\nEpoch 23/100\n\u001b[1m192/192\u001b[0m \u001b[32m━━━━━━━━━━━━━━━━━━━━\u001b[0m\u001b[37m\u001b[0m \u001b[1m66s\u001b[0m 343ms/step - accuracy: 0.9613 - loss: 0.1552 - val_accuracy: 0.5529 - val_loss: 1.6010\nEpoch 24/100\n\u001b[1m192/192\u001b[0m \u001b[32m━━━━━━━━━━━━━━━━━━━━\u001b[0m\u001b[37m\u001b[0m \u001b[1m66s\u001b[0m 343ms/step - accuracy: 0.9620 - loss: 0.1437 - val_accuracy: 0.5529 - val_loss: 1.6478\nEpoch 25/100\n\u001b[1m192/192\u001b[0m \u001b[32m━━━━━━━━━━━━━━━━━━━━\u001b[0m\u001b[37m\u001b[0m \u001b[1m82s\u001b[0m 342ms/step - accuracy: 0.9577 - loss: 0.1489 - val_accuracy: 0.5515 - val_loss: 1.6635\nEpoch 26/100\n\u001b[1m192/192\u001b[0m \u001b[32m━━━━━━━━━━━━━━━━━━━━\u001b[0m\u001b[37m\u001b[0m \u001b[1m66s\u001b[0m 342ms/step - accuracy: 0.9617 - loss: 0.1374 - val_accuracy: 0.5471 - val_loss: 1.7316\nEpoch 27/100\n\u001b[1m192/192\u001b[0m \u001b[32m━━━━━━━━━━━━━━━━━━━━\u001b[0m\u001b[37m\u001b[0m \u001b[1m66s\u001b[0m 342ms/step - accuracy: 0.9647 - loss: 0.1257 - val_accuracy: 0.5478 - val_loss: 1.7860\nEpoch 28/100\n\u001b[1m192/192\u001b[0m \u001b[32m━━━━━━━━━━━━━━━━━━━━\u001b[0m\u001b[37m\u001b[0m \u001b[1m66s\u001b[0m 344ms/step - accuracy: 0.9651 - loss: 0.1239 - val_accuracy: 0.5537 - val_loss: 1.7810\nEpoch 29/100\n\u001b[1m192/192\u001b[0m \u001b[32m━━━━━━━━━━━━━━━━━━━━\u001b[0m\u001b[37m\u001b[0m \u001b[1m67s\u001b[0m 348ms/step - accuracy: 0.9697 - loss: 0.1097 - val_accuracy: 0.5368 - val_loss: 1.7914\nEpoch 30/100\n\u001b[1m192/192\u001b[0m \u001b[32m━━━━━━━━━━━━━━━━━━━━\u001b[0m\u001b[37m\u001b[0m \u001b[1m66s\u001b[0m 344ms/step - accuracy: 0.9713 - loss: 0.1074 - val_accuracy: 0.5515 - val_loss: 1.8285\nEpoch 31/100\n\u001b[1m192/192\u001b[0m \u001b[32m━━━━━━━━━━━━━━━━━━━━\u001b[0m\u001b[37m\u001b[0m \u001b[1m66s\u001b[0m 343ms/step - accuracy: 0.9692 - loss: 0.1156 - val_accuracy: 0.5441 - val_loss: 1.8772\nEpoch 32/100\n\u001b[1m192/192\u001b[0m \u001b[32m━━━━━━━━━━━━━━━━━━━━\u001b[0m\u001b[37m\u001b[0m \u001b[1m66s\u001b[0m 342ms/step - accuracy: 0.9717 - loss: 0.1027 - val_accuracy: 0.5463 - val_loss: 1.8780\nEpoch 33/100\n\u001b[1m192/192\u001b[0m \u001b[32m━━━━━━━━━━━━━━━━━━━━\u001b[0m\u001b[37m\u001b[0m \u001b[1m66s\u001b[0m 344ms/step - accuracy: 0.9728 - loss: 0.1036 - val_accuracy: 0.5456 - val_loss: 1.8986\nEpoch 34/100\n\u001b[1m192/192\u001b[0m \u001b[32m━━━━━━━━━━━━━━━━━━━━\u001b[0m\u001b[37m\u001b[0m \u001b[1m66s\u001b[0m 344ms/step - accuracy: 0.9745 - loss: 0.0983 - val_accuracy: 0.5434 - val_loss: 1.9609\nEpoch 35/100\n\u001b[1m192/192\u001b[0m \u001b[32m━━━━━━━━━━━━━━━━━━━━\u001b[0m\u001b[37m\u001b[0m \u001b[1m65s\u001b[0m 341ms/step - accuracy: 0.9767 - loss: 0.0912 - val_accuracy: 0.5397 - val_loss: 2.0105\nEpoch 36/100\n\u001b[1m192/192\u001b[0m \u001b[32m━━━━━━━━━━━━━━━━━━━━\u001b[0m\u001b[37m\u001b[0m \u001b[1m66s\u001b[0m 343ms/step - accuracy: 0.9758 - loss: 0.1003 - val_accuracy: 0.5441 - val_loss: 2.0165\nEpoch 37/100\n\u001b[1m192/192\u001b[0m \u001b[32m━━━━━━━━━━━━━━━━━━━━\u001b[0m\u001b[37m\u001b[0m \u001b[1m66s\u001b[0m 341ms/step - accuracy: 0.9762 - loss: 0.0884 - val_accuracy: 0.5471 - val_loss: 2.0478\nEpoch 38/100\n\u001b[1m192/192\u001b[0m \u001b[32m━━━━━━━━━━━━━━━━━━━━\u001b[0m\u001b[37m\u001b[0m \u001b[1m82s\u001b[0m 344ms/step - accuracy: 0.9777 - loss: 0.0865 - val_accuracy: 0.5478 - val_loss: 2.0639\nEpoch 39/100\n\u001b[1m192/192\u001b[0m \u001b[32m━━━━━━━━━━━━━━━━━━━━\u001b[0m\u001b[37m\u001b[0m \u001b[1m66s\u001b[0m 342ms/step - accuracy: 0.9799 - loss: 0.0768 - val_accuracy: 0.5478 - val_loss: 2.0643\nEpoch 40/100\n\u001b[1m192/192\u001b[0m \u001b[32m━━━━━━━━━━━━━━━━━━━━\u001b[0m\u001b[37m\u001b[0m \u001b[1m66s\u001b[0m 342ms/step - accuracy: 0.9772 - loss: 0.0853 - val_accuracy: 0.5426 - val_loss: 2.0670\nEpoch 41/100\n\u001b[1m192/192\u001b[0m \u001b[32m━━━━━━━━━━━━━━━━━━━━\u001b[0m\u001b[37m\u001b[0m \u001b[1m66s\u001b[0m 342ms/step - accuracy: 0.9801 - loss: 0.0737 - val_accuracy: 0.5390 - val_loss: 2.1202\nEpoch 42/100\n\u001b[1m192/192\u001b[0m \u001b[32m━━━━━━━━━━━━━━━━━━━━\u001b[0m\u001b[37m\u001b[0m \u001b[1m66s\u001b[0m 342ms/step - accuracy: 0.9814 - loss: 0.0740 - val_accuracy: 0.5456 - val_loss: 2.1298\nEpoch 43/100\n\u001b[1m192/192\u001b[0m \u001b[32m━━━━━━━━━━━━━━━━━━━━\u001b[0m\u001b[37m\u001b[0m \u001b[1m68s\u001b[0m 353ms/step - accuracy: 0.9799 - loss: 0.0773 - val_accuracy: 0.5478 - val_loss: 2.1882\nEpoch 44/100\n\u001b[1m192/192\u001b[0m \u001b[32m━━━━━━━━━━━━━━━━━━━━\u001b[0m\u001b[37m\u001b[0m \u001b[1m67s\u001b[0m 351ms/step - accuracy: 0.9806 - loss: 0.0695 - val_accuracy: 0.5471 - val_loss: 2.2090\nEpoch 45/100\n\u001b[1m192/192\u001b[0m \u001b[32m━━━━━━━━━━━━━━━━━━━━\u001b[0m\u001b[37m\u001b[0m \u001b[1m67s\u001b[0m 350ms/step - accuracy: 0.9801 - loss: 0.0737 - val_accuracy: 0.5397 - val_loss: 2.2049\nEpoch 46/100\n\u001b[1m192/192\u001b[0m \u001b[32m━━━━━━━━━━━━━━━━━━━━\u001b[0m\u001b[37m\u001b[0m \u001b[1m82s\u001b[0m 350ms/step - accuracy: 0.9812 - loss: 0.0681 - val_accuracy: 0.5493 - val_loss: 2.2057\nEpoch 47/100\n\u001b[1m192/192\u001b[0m \u001b[32m━━━━━━━━━━━━━━━━━━━━\u001b[0m\u001b[37m\u001b[0m \u001b[1m68s\u001b[0m 353ms/step - accuracy: 0.9827 - loss: 0.0614 - val_accuracy: 0.5434 - val_loss: 2.2270\nEpoch 48/100\n\u001b[1m192/192\u001b[0m \u001b[32m━━━━━━━━━━━━━━━━━━━━\u001b[0m\u001b[37m\u001b[0m \u001b[1m67s\u001b[0m 350ms/step - accuracy: 0.9831 - loss: 0.0589 - val_accuracy: 0.5471 - val_loss: 2.2337\nEpoch 49/100\n\u001b[1m192/192\u001b[0m \u001b[32m━━━━━━━━━━━━━━━━━━━━\u001b[0m\u001b[37m\u001b[0m \u001b[1m67s\u001b[0m 350ms/step - accuracy: 0.9844 - loss: 0.0564 - val_accuracy: 0.5500 - val_loss: 2.2385\nEpoch 50/100\n\u001b[1m192/192\u001b[0m \u001b[32m━━━━━━━━━━━━━━━━━━━━\u001b[0m\u001b[37m\u001b[0m \u001b[1m68s\u001b[0m 354ms/step - accuracy: 0.9860 - loss: 0.0512 - val_accuracy: 0.5456 - val_loss: 2.2232\nEpoch 51/100\n\u001b[1m192/192\u001b[0m \u001b[32m━━━━━━━━━━━━━━━━━━━━\u001b[0m\u001b[37m\u001b[0m \u001b[1m68s\u001b[0m 353ms/step - accuracy: 0.9859 - loss: 0.0522 - val_accuracy: 0.5507 - val_loss: 2.2525\nEpoch 52/100\n\u001b[1m192/192\u001b[0m \u001b[32m━━━━━━━━━━━━━━━━━━━━\u001b[0m\u001b[37m\u001b[0m \u001b[1m83s\u001b[0m 358ms/step - accuracy: 0.9844 - loss: 0.0511 - val_accuracy: 0.5404 - val_loss: 2.3288\nEpoch 53/100\n\u001b[1m192/192\u001b[0m \u001b[32m━━━━━━━━━━━━━━━━━━━━\u001b[0m\u001b[37m\u001b[0m \u001b[1m68s\u001b[0m 354ms/step - accuracy: 0.9852 - loss: 0.0507 - val_accuracy: 0.5382 - val_loss: 2.3229\nEpoch 54/100\n\u001b[1m192/192\u001b[0m \u001b[32m━━━━━━━━━━━━━━━━━━━━\u001b[0m\u001b[37m\u001b[0m \u001b[1m68s\u001b[0m 357ms/step - accuracy: 0.9862 - loss: 0.0446 - val_accuracy: 0.5412 - val_loss: 2.3753\nEpoch 55/100\n\u001b[1m192/192\u001b[0m \u001b[32m━━━━━━━━━━━━━━━━━━━━\u001b[0m\u001b[37m\u001b[0m \u001b[1m68s\u001b[0m 355ms/step - accuracy: 0.9864 - loss: 0.0430 - val_accuracy: 0.5441 - val_loss: 2.4257\nEpoch 56/100\n\u001b[1m192/192\u001b[0m \u001b[32m━━━━━━━━━━━━━━━━━━━━\u001b[0m\u001b[37m\u001b[0m \u001b[1m68s\u001b[0m 356ms/step - accuracy: 0.9859 - loss: 0.0416 - val_accuracy: 0.5426 - val_loss: 2.4204\nEpoch 57/100\n\u001b[1m192/192\u001b[0m \u001b[32m━━━━━━━━━━━━━━━━━━━━\u001b[0m\u001b[37m\u001b[0m \u001b[1m82s\u001b[0m 355ms/step - accuracy: 0.9873 - loss: 0.0382 - val_accuracy: 0.5419 - val_loss: 2.4448\nEpoch 58/100\n\u001b[1m192/192\u001b[0m \u001b[32m━━━━━━━━━━━━━━━━━━━━\u001b[0m\u001b[37m\u001b[0m \u001b[1m68s\u001b[0m 355ms/step - accuracy: 0.9885 - loss: 0.0384 - val_accuracy: 0.5309 - val_loss: 2.4777\nEpoch 59/100\n\u001b[1m192/192\u001b[0m \u001b[32m━━━━━━━━━━━━━━━━━━━━\u001b[0m\u001b[37m\u001b[0m \u001b[1m68s\u001b[0m 356ms/step - accuracy: 0.9863 - loss: 0.0395 - val_accuracy: 0.5353 - val_loss: 2.5460\nEpoch 60/100\n\u001b[1m192/192\u001b[0m \u001b[32m━━━━━━━━━━━━━━━━━━━━\u001b[0m\u001b[37m\u001b[0m \u001b[1m68s\u001b[0m 355ms/step - accuracy: 0.9865 - loss: 0.0424 - val_accuracy: 0.5412 - val_loss: 2.4778\nEpoch 61/100\n\u001b[1m192/192\u001b[0m \u001b[32m━━━━━━━━━━━━━━━━━━━━\u001b[0m\u001b[37m\u001b[0m \u001b[1m69s\u001b[0m 358ms/step - accuracy: 0.9872 - loss: 0.0396 - val_accuracy: 0.5434 - val_loss: 2.4955\nEpoch 62/100\n\u001b[1m192/192\u001b[0m \u001b[32m━━━━━━━━━━━━━━━━━━━━\u001b[0m\u001b[37m\u001b[0m \u001b[1m68s\u001b[0m 356ms/step - accuracy: 0.9873 - loss: 0.0343 - val_accuracy: 0.5346 - val_loss: 2.5731\nEpoch 63/100\n\u001b[1m192/192\u001b[0m \u001b[32m━━━━━━━━━━━━━━━━━━━━\u001b[0m\u001b[37m\u001b[0m \u001b[1m68s\u001b[0m 355ms/step - accuracy: 0.9867 - loss: 0.0352 - val_accuracy: 0.5382 - val_loss: 2.5673\nEpoch 64/100\n\u001b[1m192/192\u001b[0m \u001b[32m━━━━━━━━━━━━━━━━━━━━\u001b[0m\u001b[37m\u001b[0m \u001b[1m68s\u001b[0m 355ms/step - accuracy: 0.9896 - loss: 0.0288 - val_accuracy: 0.5346 - val_loss: 2.6441\nEpoch 65/100\n\u001b[1m192/192\u001b[0m \u001b[32m━━━━━━━━━━━━━━━━━━━━\u001b[0m\u001b[37m\u001b[0m \u001b[1m68s\u001b[0m 356ms/step - accuracy: 0.9889 - loss: 0.0291 - val_accuracy: 0.5324 - val_loss: 2.6546\nEpoch 66/100\n\u001b[1m192/192\u001b[0m \u001b[32m━━━━━━━━━━━━━━━━━━━━\u001b[0m\u001b[37m\u001b[0m \u001b[1m68s\u001b[0m 355ms/step - accuracy: 0.9894 - loss: 0.0288 - val_accuracy: 0.5360 - val_loss: 2.6921\nEpoch 67/100\n\u001b[1m192/192\u001b[0m \u001b[32m━━━━━━━━━━━━━━━━━━━━\u001b[0m\u001b[37m\u001b[0m \u001b[1m68s\u001b[0m 355ms/step - accuracy: 0.9894 - loss: 0.0284 - val_accuracy: 0.5257 - val_loss: 2.7399\nEpoch 68/100\n\u001b[1m192/192\u001b[0m \u001b[32m━━━━━━━━━━━━━━━━━━━━\u001b[0m\u001b[37m\u001b[0m \u001b[1m68s\u001b[0m 355ms/step - accuracy: 0.9906 - loss: 0.0260 - val_accuracy: 0.5324 - val_loss: 2.7505\nEpoch 69/100\n\u001b[1m192/192\u001b[0m \u001b[32m━━━━━━━━━━━━━━━━━━━━\u001b[0m\u001b[37m\u001b[0m \u001b[1m68s\u001b[0m 354ms/step - accuracy: 0.9880 - loss: 0.0275 - val_accuracy: 0.5419 - val_loss: 2.7382\nEpoch 70/100\n\u001b[1m192/192\u001b[0m \u001b[32m━━━━━━━━━━━━━━━━━━━━\u001b[0m\u001b[37m\u001b[0m \u001b[1m68s\u001b[0m 352ms/step - accuracy: 0.9906 - loss: 0.0249 - val_accuracy: 0.5346 - val_loss: 2.7555\nEpoch 71/100\n\u001b[1m192/192\u001b[0m \u001b[32m━━━━━━━━━━━━━━━━━━━━\u001b[0m\u001b[37m\u001b[0m \u001b[1m68s\u001b[0m 352ms/step - accuracy: 0.9884 - loss: 0.0264 - val_accuracy: 0.5346 - val_loss: 2.7635\nEpoch 72/100\n\u001b[1m192/192\u001b[0m \u001b[32m━━━━━━━━━━━━━━━━━━━━\u001b[0m\u001b[37m\u001b[0m \u001b[1m67s\u001b[0m 350ms/step - accuracy: 0.9870 - loss: 0.0288 - val_accuracy: 0.5331 - val_loss: 2.7813\nEpoch 73/100\n\u001b[1m192/192\u001b[0m \u001b[32m━━━━━━━━━━━━━━━━━━━━\u001b[0m\u001b[37m\u001b[0m \u001b[1m67s\u001b[0m 351ms/step - accuracy: 0.9901 - loss: 0.0219 - val_accuracy: 0.5331 - val_loss: 2.8307\nEpoch 74/100\n\u001b[1m192/192\u001b[0m \u001b[32m━━━━━━━━━━━━━━━━━━━━\u001b[0m\u001b[37m\u001b[0m \u001b[1m68s\u001b[0m 354ms/step - accuracy: 0.9887 - loss: 0.0232 - val_accuracy: 0.5397 - val_loss: 2.8414\nEpoch 75/100\n\u001b[1m192/192\u001b[0m \u001b[32m━━━━━━━━━━━━━━━━━━━━\u001b[0m\u001b[37m\u001b[0m \u001b[1m67s\u001b[0m 350ms/step - accuracy: 0.9880 - loss: 0.0267 - val_accuracy: 0.5250 - val_loss: 2.8582\nEpoch 76/100\n\u001b[1m192/192\u001b[0m \u001b[32m━━━━━━━━━━━━━━━━━━━━\u001b[0m\u001b[37m\u001b[0m \u001b[1m67s\u001b[0m 350ms/step - accuracy: 0.9883 - loss: 0.0223 - val_accuracy: 0.5324 - val_loss: 2.8811\nEpoch 77/100\n\u001b[1m192/192\u001b[0m \u001b[32m━━━━━━━━━━━━━━━━━━━━\u001b[0m\u001b[37m\u001b[0m \u001b[1m67s\u001b[0m 351ms/step - accuracy: 0.9884 - loss: 0.0236 - val_accuracy: 0.5279 - val_loss: 2.9605\nEpoch 78/100\n\u001b[1m192/192\u001b[0m \u001b[32m━━━━━━━━━━━━━━━━━━━━\u001b[0m\u001b[37m\u001b[0m \u001b[1m68s\u001b[0m 353ms/step - accuracy: 0.9866 - loss: 0.0231 - val_accuracy: 0.5346 - val_loss: 2.9261\nEpoch 79/100\n\u001b[1m192/192\u001b[0m \u001b[32m━━━━━━━━━━━━━━━━━━━━\u001b[0m\u001b[37m\u001b[0m \u001b[1m68s\u001b[0m 353ms/step - accuracy: 0.9882 - loss: 0.0224 - val_accuracy: 0.5382 - val_loss: 2.9256\nEpoch 80/100\n\u001b[1m192/192\u001b[0m \u001b[32m━━━━━━━━━━━━━━━━━━━━\u001b[0m\u001b[37m\u001b[0m \u001b[1m67s\u001b[0m 351ms/step - accuracy: 0.9910 - loss: 0.0201 - val_accuracy: 0.5404 - val_loss: 2.9856\nEpoch 81/100\n\u001b[1m192/192\u001b[0m \u001b[32m━━━━━━━━━━━━━━━━━━━━\u001b[0m\u001b[37m\u001b[0m \u001b[1m82s\u001b[0m 352ms/step - accuracy: 0.9904 - loss: 0.0192 - val_accuracy: 0.5301 - val_loss: 2.9614\nEpoch 82/100\n\u001b[1m192/192\u001b[0m \u001b[32m━━━━━━━━━━━━━━━━━━━━\u001b[0m\u001b[37m\u001b[0m \u001b[1m68s\u001b[0m 352ms/step - accuracy: 0.9891 - loss: 0.0226 - val_accuracy: 0.5294 - val_loss: 2.9924\nEpoch 83/100\n\u001b[1m192/192\u001b[0m \u001b[32m━━━━━━━━━━━━━━━━━━━━\u001b[0m\u001b[37m\u001b[0m \u001b[1m68s\u001b[0m 353ms/step - accuracy: 0.9902 - loss: 0.0183 - val_accuracy: 0.5331 - val_loss: 3.0074\nEpoch 84/100\n\u001b[1m192/192\u001b[0m \u001b[32m━━━━━━━━━━━━━━━━━━━━\u001b[0m\u001b[37m\u001b[0m \u001b[1m67s\u001b[0m 351ms/step - accuracy: 0.9884 - loss: 0.0231 - val_accuracy: 0.5382 - val_loss: 3.0333\nEpoch 85/100\n\u001b[1m192/192\u001b[0m \u001b[32m━━━━━━━━━━━━━━━━━━━━\u001b[0m\u001b[37m\u001b[0m \u001b[1m68s\u001b[0m 353ms/step - accuracy: 0.9890 - loss: 0.0232 - val_accuracy: 0.5419 - val_loss: 3.0090\nEpoch 86/100\n\u001b[1m192/192\u001b[0m \u001b[32m━━━━━━━━━━━━━━━━━━━━\u001b[0m\u001b[37m\u001b[0m \u001b[1m68s\u001b[0m 353ms/step - accuracy: 0.9900 - loss: 0.0217 - val_accuracy: 0.5353 - val_loss: 3.0397\nEpoch 87/100\n\u001b[1m192/192\u001b[0m \u001b[32m━━━━━━━━━━━━━━━━━━━━\u001b[0m\u001b[37m\u001b[0m \u001b[1m67s\u001b[0m 352ms/step - accuracy: 0.9897 - loss: 0.0219 - val_accuracy: 0.5309 - val_loss: 3.0390\nEpoch 88/100\n\u001b[1m192/192\u001b[0m \u001b[32m━━━━━━━━━━━━━━━━━━━━\u001b[0m\u001b[37m\u001b[0m \u001b[1m68s\u001b[0m 353ms/step - accuracy: 0.9895 - loss: 0.0214 - val_accuracy: 0.5346 - val_loss: 3.0816\nEpoch 89/100\n\u001b[1m192/192\u001b[0m \u001b[32m━━━━━━━━━━━━━━━━━━━━\u001b[0m\u001b[37m\u001b[0m \u001b[1m68s\u001b[0m 356ms/step - accuracy: 0.9881 - loss: 0.0219 - val_accuracy: 0.5287 - val_loss: 3.0668\nEpoch 90/100\n\u001b[1m192/192\u001b[0m \u001b[32m━━━━━━━━━━━━━━━━━━━━\u001b[0m\u001b[37m\u001b[0m \u001b[1m68s\u001b[0m 353ms/step - accuracy: 0.9898 - loss: 0.0223 - val_accuracy: 0.5272 - val_loss: 3.0267\nEpoch 91/100\n\u001b[1m192/192\u001b[0m \u001b[32m━━━━━━━━━━━━━━━━━━━━\u001b[0m\u001b[37m\u001b[0m \u001b[1m68s\u001b[0m 353ms/step - accuracy: 0.9883 - loss: 0.0230 - val_accuracy: 0.5309 - val_loss: 3.1000\nEpoch 92/100\n\u001b[1m192/192\u001b[0m \u001b[32m━━━━━━━━━━━━━━━━━━━━\u001b[0m\u001b[37m\u001b[0m \u001b[1m68s\u001b[0m 353ms/step - accuracy: 0.9880 - loss: 0.0230 - val_accuracy: 0.5316 - val_loss: 3.0696\nEpoch 93/100\n\u001b[1m192/192\u001b[0m \u001b[32m━━━━━━━━━━━━━━━━━━━━\u001b[0m\u001b[37m\u001b[0m \u001b[1m68s\u001b[0m 352ms/step - accuracy: 0.9889 - loss: 0.0209 - val_accuracy: 0.5287 - val_loss: 3.0584\nEpoch 94/100\n\u001b[1m192/192\u001b[0m \u001b[32m━━━━━━━━━━━━━━━━━━━━\u001b[0m\u001b[37m\u001b[0m \u001b[1m68s\u001b[0m 353ms/step - accuracy: 0.9900 - loss: 0.0205 - val_accuracy: 0.5382 - val_loss: 3.1011\nEpoch 95/100\n\u001b[1m192/192\u001b[0m \u001b[32m━━━━━━━━━━━━━━━━━━━━\u001b[0m\u001b[37m\u001b[0m \u001b[1m68s\u001b[0m 353ms/step - accuracy: 0.9883 - loss: 0.0215 - val_accuracy: 0.5316 - val_loss: 3.1425\nEpoch 96/100\n\u001b[1m192/192\u001b[0m \u001b[32m━━━━━━━━━━━━━━━━━━━━\u001b[0m\u001b[37m\u001b[0m \u001b[1m68s\u001b[0m 353ms/step - accuracy: 0.9912 - loss: 0.0184 - val_accuracy: 0.5390 - val_loss: 3.1181\nEpoch 97/100\n\u001b[1m192/192\u001b[0m \u001b[32m━━━━━━━━━━━━━━━━━━━━\u001b[0m\u001b[37m\u001b[0m \u001b[1m68s\u001b[0m 352ms/step - accuracy: 0.9899 - loss: 0.0229 - val_accuracy: 0.5309 - val_loss: 3.1664\nEpoch 98/100\n\u001b[1m192/192\u001b[0m \u001b[32m━━━━━━━━━━━━━━━━━━━━\u001b[0m\u001b[37m\u001b[0m \u001b[1m68s\u001b[0m 353ms/step - accuracy: 0.9894 - loss: 0.0209 - val_accuracy: 0.5404 - val_loss: 3.1904\nEpoch 99/100\n\u001b[1m192/192\u001b[0m \u001b[32m━━━━━━━━━━━━━━━━━━━━\u001b[0m\u001b[37m\u001b[0m \u001b[1m67s\u001b[0m 351ms/step - accuracy: 0.9894 - loss: 0.0198 - val_accuracy: 0.5382 - val_loss: 3.2016\nEpoch 100/100\n\u001b[1m192/192\u001b[0m \u001b[32m━━━━━━━━━━━━━━━━━━━━\u001b[0m\u001b[37m\u001b[0m \u001b[1m68s\u001b[0m 352ms/step - accuracy: 0.9904 - loss: 0.0185 - val_accuracy: 0.5316 - val_loss: 3.1632\n",
          "output_type": "stream"
        }
      ]
    },
    {
      "cell_type": "code",
      "source": [
        "accr = model.evaluate(X_test,Y_test)"
      ],
      "metadata": {
        "execution": {
          "iopub.status.busy": "2024-04-18T15:02:58.601107Z",
          "iopub.execute_input": "2024-04-18T15:02:58.601424Z",
          "iopub.status.idle": "2024-04-18T15:03:07.913961Z",
          "shell.execute_reply.started": "2024-04-18T15:02:58.601396Z",
          "shell.execute_reply": "2024-04-18T15:03:07.913041Z"
        },
        "trusted": true,
        "id": "5eru3YkBPSEF",
        "outputId": "e398b872-d0f4-4d63-9ec6-15ed46046840"
      },
      "execution_count": null,
      "outputs": [
        {
          "name": "stdout",
          "text": "\u001b[1m107/107\u001b[0m \u001b[32m━━━━━━━━━━━━━━━━━━━━\u001b[0m\u001b[37m\u001b[0m \u001b[1m9s\u001b[0m 86ms/step - accuracy: 0.5149 - loss: 3.2249\n",
          "output_type": "stream"
        }
      ]
    },
    {
      "cell_type": "code",
      "source": [
        "###############################BI-DIRECTIONAL LSTM##########################################\n",
        "import os\n",
        "import time\n",
        "import numpy as np # linear algebra\n",
        "import pandas as pd # data processing, CSV file I/O (e.g. pd.read_csv)\n",
        "from tqdm import tqdm\n",
        "import math\n",
        "from sklearn.model_selection import train_test_split\n",
        "from sklearn import metrics\n",
        "\n",
        "from keras.preprocessing.sequence import pad_sequences\n",
        "from keras.layers import Dense, Input, Embedding, Dropout, Activation, Conv1D\n",
        "from keras.layers import Bidirectional, GlobalMaxPool1D, GlobalMaxPooling1D, GlobalAveragePooling1D\n",
        "from keras.layers import Input, Embedding, Dense, Conv2D, MaxPool2D, concatenate\n",
        "from keras.layers import Reshape, Flatten, Concatenate, Dropout, SpatialDropout1D\n",
        "from keras.optimizers import Adam\n",
        "from keras.models import Model\n",
        "from keras import backend as K\n",
        "from keras import initializers, regularizers, constraints, optimizers, layers\n",
        "\n",
        "\n",
        "from keras.layers import *\n",
        "from keras.models import *\n",
        "from keras import initializers, regularizers, constraints, optimizers, layers\n",
        "from keras.initializers import *\n",
        "from keras.optimizers import *\n",
        "import keras.backend as K\n",
        "from keras.callbacks import *\n",
        "import tensorflow as tf\n",
        "import os\n",
        "import time\n",
        "import gc\n",
        "import re\n",
        "import glob"
      ],
      "metadata": {
        "execution": {
          "iopub.status.busy": "2024-04-18T17:05:39.012301Z",
          "iopub.execute_input": "2024-04-18T17:05:39.013289Z",
          "iopub.status.idle": "2024-04-18T17:05:39.021846Z",
          "shell.execute_reply.started": "2024-04-18T17:05:39.013253Z",
          "shell.execute_reply": "2024-04-18T17:05:39.020926Z"
        },
        "trusted": true,
        "id": "urNV6RAaPSEG"
      },
      "execution_count": null,
      "outputs": []
    },
    {
      "cell_type": "code",
      "source": [
        "# Define some Global Variables\n",
        "max_features = 100000 # Maximum Number of words we want to include in our dictionary\n",
        "maxlen = 72 # No of words in question we want to create a sequence with\n",
        "embed_size = 300# Size of word to vec embedding we are using"
      ],
      "metadata": {
        "execution": {
          "iopub.status.busy": "2024-04-18T17:05:39.906226Z",
          "iopub.execute_input": "2024-04-18T17:05:39.906571Z",
          "iopub.status.idle": "2024-04-18T17:05:39.911295Z",
          "shell.execute_reply.started": "2024-04-18T17:05:39.906546Z",
          "shell.execute_reply": "2024-04-18T17:05:39.910277Z"
        },
        "trusted": true,
        "id": "GkRiYDKLPSEG"
      },
      "execution_count": null,
      "outputs": []
    },
    {
      "cell_type": "code",
      "source": [
        "tokenizer = Tokenizer(num_words=20000, split=' ')\n",
        "\n",
        "tokenizer.fit_on_texts(df['Cleaned_Text'])\n",
        "X = tokenizer.texts_to_sequences(df['Cleaned_Text'])\n",
        "X = pad_sequences(X)\n",
        "# Y = data['Sentiment']\n",
        "\n",
        "Y = pd.get_dummies(df['Sentiment']).values\n",
        "print('Shape of label tensor:', Y.shape)\n",
        "\n",
        "# We can then create our train and test sets:\n",
        "\n",
        "X_train, X_test, Y_train, Y_test = train_test_split(X, Y, test_size = 0.15, random_state = 42)\n",
        "\n",
        "# X_train, X_test, y_train, y_test = train_test_split(data['Text'], data.Sentiment, test_size=.15)"
      ],
      "metadata": {
        "execution": {
          "iopub.status.busy": "2024-04-18T17:06:17.077436Z",
          "iopub.execute_input": "2024-04-18T17:06:17.078156Z",
          "iopub.status.idle": "2024-04-18T17:06:17.679369Z",
          "shell.execute_reply.started": "2024-04-18T17:06:17.078123Z",
          "shell.execute_reply": "2024-04-18T17:06:17.678459Z"
        },
        "trusted": true,
        "id": "NHAaXBQYPSEG",
        "outputId": "29ec60c7-8720-44a2-eb4d-b391581487f4"
      },
      "execution_count": null,
      "outputs": [
        {
          "name": "stdout",
          "text": "Shape of label tensor: (16999, 3)\n",
          "output_type": "stream"
        }
      ]
    },
    {
      "cell_type": "code",
      "source": [
        "print(X_train.shape,Y_train.shape)\n",
        "print(X_test.shape,Y_test.shape)"
      ],
      "metadata": {
        "execution": {
          "iopub.status.busy": "2024-04-18T17:06:20.333131Z",
          "iopub.execute_input": "2024-04-18T17:06:20.333838Z",
          "iopub.status.idle": "2024-04-18T17:06:20.338467Z",
          "shell.execute_reply.started": "2024-04-18T17:06:20.333807Z",
          "shell.execute_reply": "2024-04-18T17:06:20.337454Z"
        },
        "trusted": true,
        "id": "muB5s79QPSEG",
        "outputId": "6c4f10b9-e202-4aa6-b0c5-e101af09aa2d"
      },
      "execution_count": null,
      "outputs": [
        {
          "name": "stdout",
          "text": "(14449, 22) (14449, 3)\n(2550, 22) (2550, 3)\n",
          "output_type": "stream"
        }
      ]
    },
    {
      "cell_type": "code",
      "source": [
        "max_features = 20000\n",
        "# cut texts after this number of words\n",
        "# (among top max_features most common words)\n",
        "maxlen = 100\n",
        "batch_size = 32"
      ],
      "metadata": {
        "execution": {
          "iopub.status.busy": "2024-04-18T17:06:51.857837Z",
          "iopub.execute_input": "2024-04-18T17:06:51.858230Z",
          "iopub.status.idle": "2024-04-18T17:06:51.862762Z",
          "shell.execute_reply.started": "2024-04-18T17:06:51.858202Z",
          "shell.execute_reply": "2024-04-18T17:06:51.861864Z"
        },
        "trusted": true,
        "id": "pcqDxmPYPSEG"
      },
      "execution_count": null,
      "outputs": []
    },
    {
      "cell_type": "code",
      "source": [
        "from keras.preprocessing import sequence\n",
        "print('Pad sequences (samples x time)')\n",
        "x_train = sequence.pad_sequences(X_train, maxlen=maxlen)\n",
        "x_test = sequence.pad_sequences(X_test, maxlen=maxlen)\n",
        "print('x_train shape:', x_train.shape)\n",
        "print('x_test shape:', x_test.shape)\n",
        "y_train = np.array(Y_train)\n",
        "y_test = np.array(Y_test)"
      ],
      "metadata": {
        "execution": {
          "iopub.status.busy": "2024-04-18T17:06:59.564348Z",
          "iopub.execute_input": "2024-04-18T17:06:59.565237Z",
          "iopub.status.idle": "2024-04-18T17:06:59.622033Z",
          "shell.execute_reply.started": "2024-04-18T17:06:59.565203Z",
          "shell.execute_reply": "2024-04-18T17:06:59.621122Z"
        },
        "trusted": true,
        "id": "uzGP4-8XPSEG",
        "outputId": "2e482a74-bb17-4bcf-8f6e-612b8c05afe1"
      },
      "execution_count": null,
      "outputs": [
        {
          "name": "stdout",
          "text": "Pad sequences (samples x time)\nx_train shape: (14449, 100)\nx_test shape: (2550, 100)\n",
          "output_type": "stream"
        }
      ]
    },
    {
      "cell_type": "code",
      "source": [
        "model = Sequential()\n",
        "model.add(Embedding(max_features, 128))\n",
        "model.add(Bidirectional(LSTM(64)))\n",
        "model.add(Dropout(0.5))\n",
        "model.add(Dense(3, activation='sigmoid'))"
      ],
      "metadata": {
        "execution": {
          "iopub.status.busy": "2024-04-18T17:07:29.810556Z",
          "iopub.execute_input": "2024-04-18T17:07:29.811272Z",
          "iopub.status.idle": "2024-04-18T17:07:30.458044Z",
          "shell.execute_reply.started": "2024-04-18T17:07:29.811241Z",
          "shell.execute_reply": "2024-04-18T17:07:30.457226Z"
        },
        "trusted": true,
        "id": "fyESFv0rPSEG"
      },
      "execution_count": null,
      "outputs": []
    },
    {
      "cell_type": "code",
      "source": [
        "#  try using different optimizers and different optimizer configs\n",
        "model.compile('adam', 'binary_crossentropy', metrics=['accuracy'])"
      ],
      "metadata": {
        "execution": {
          "iopub.status.busy": "2024-04-18T17:07:52.684557Z",
          "iopub.execute_input": "2024-04-18T17:07:52.685457Z",
          "iopub.status.idle": "2024-04-18T17:07:52.706149Z",
          "shell.execute_reply.started": "2024-04-18T17:07:52.685421Z",
          "shell.execute_reply": "2024-04-18T17:07:52.705337Z"
        },
        "trusted": true,
        "id": "AJdTLzhzPSEH"
      },
      "execution_count": null,
      "outputs": []
    },
    {
      "cell_type": "code",
      "source": [
        "print('Train...')\n",
        "model.fit(x_train, y_train,\n",
        "          batch_size=batch_size,\n",
        "          epochs=100,\n",
        "#           validation_data=[x_test, y_test]\n",
        "         )"
      ],
      "metadata": {
        "execution": {
          "iopub.status.busy": "2024-04-18T17:08:03.234816Z",
          "iopub.execute_input": "2024-04-18T17:08:03.235669Z",
          "iopub.status.idle": "2024-04-18T17:17:36.861455Z",
          "shell.execute_reply.started": "2024-04-18T17:08:03.235640Z",
          "shell.execute_reply": "2024-04-18T17:17:36.860444Z"
        },
        "trusted": true,
        "id": "8I2yRc0IPSEH",
        "outputId": "6a82737b-dbf5-4b14-e364-6430ba2c4b64"
      },
      "execution_count": null,
      "outputs": [
        {
          "name": "stdout",
          "text": "Train...\nEpoch 1/100\n\u001b[1m452/452\u001b[0m \u001b[32m━━━━━━━━━━━━━━━━━━━━\u001b[0m\u001b[37m\u001b[0m \u001b[1m11s\u001b[0m 12ms/step - accuracy: 0.4635 - loss: 0.5969\nEpoch 2/100\n\u001b[1m452/452\u001b[0m \u001b[32m━━━━━━━━━━━━━━━━━━━━\u001b[0m\u001b[37m\u001b[0m \u001b[1m6s\u001b[0m 12ms/step - accuracy: 0.7387 - loss: 0.4003\nEpoch 3/100\n\u001b[1m452/452\u001b[0m \u001b[32m━━━━━━━━━━━━━━━━━━━━\u001b[0m\u001b[37m\u001b[0m \u001b[1m6s\u001b[0m 12ms/step - accuracy: 0.8550 - loss: 0.2600\nEpoch 4/100\n\u001b[1m452/452\u001b[0m \u001b[32m━━━━━━━━━━━━━━━━━━━━\u001b[0m\u001b[37m\u001b[0m \u001b[1m6s\u001b[0m 12ms/step - accuracy: 0.9138 - loss: 0.1682\nEpoch 5/100\n\u001b[1m452/452\u001b[0m \u001b[32m━━━━━━━━━━━━━━━━━━━━\u001b[0m\u001b[37m\u001b[0m \u001b[1m6s\u001b[0m 12ms/step - accuracy: 0.9426 - loss: 0.1165\nEpoch 6/100\n\u001b[1m452/452\u001b[0m \u001b[32m━━━━━━━━━━━━━━━━━━━━\u001b[0m\u001b[37m\u001b[0m \u001b[1m6s\u001b[0m 12ms/step - accuracy: 0.9528 - loss: 0.0890\nEpoch 7/100\n\u001b[1m452/452\u001b[0m \u001b[32m━━━━━━━━━━━━━━━━━━━━\u001b[0m\u001b[37m\u001b[0m \u001b[1m6s\u001b[0m 12ms/step - accuracy: 0.9675 - loss: 0.0641\nEpoch 8/100\n\u001b[1m452/452\u001b[0m \u001b[32m━━━━━━━━━━━━━━━━━━━━\u001b[0m\u001b[37m\u001b[0m \u001b[1m6s\u001b[0m 13ms/step - accuracy: 0.9718 - loss: 0.0518\nEpoch 9/100\n\u001b[1m452/452\u001b[0m \u001b[32m━━━━━━━━━━━━━━━━━━━━\u001b[0m\u001b[37m\u001b[0m \u001b[1m6s\u001b[0m 12ms/step - accuracy: 0.9768 - loss: 0.0410\nEpoch 10/100\n\u001b[1m452/452\u001b[0m \u001b[32m━━━━━━━━━━━━━━━━━━━━\u001b[0m\u001b[37m\u001b[0m \u001b[1m6s\u001b[0m 13ms/step - accuracy: 0.9790 - loss: 0.0354\nEpoch 11/100\n\u001b[1m452/452\u001b[0m \u001b[32m━━━━━━━━━━━━━━━━━━━━\u001b[0m\u001b[37m\u001b[0m \u001b[1m6s\u001b[0m 12ms/step - accuracy: 0.9784 - loss: 0.0326\nEpoch 12/100\n\u001b[1m452/452\u001b[0m \u001b[32m━━━━━━━━━━━━━━━━━━━━\u001b[0m\u001b[37m\u001b[0m \u001b[1m6s\u001b[0m 12ms/step - accuracy: 0.9797 - loss: 0.0320\nEpoch 13/100\n\u001b[1m452/452\u001b[0m \u001b[32m━━━━━━━━━━━━━━━━━━━━\u001b[0m\u001b[37m\u001b[0m \u001b[1m6s\u001b[0m 13ms/step - accuracy: 0.9806 - loss: 0.0308\nEpoch 14/100\n\u001b[1m452/452\u001b[0m \u001b[32m━━━━━━━━━━━━━━━━━━━━\u001b[0m\u001b[37m\u001b[0m \u001b[1m6s\u001b[0m 13ms/step - accuracy: 0.9803 - loss: 0.0309\nEpoch 15/100\n\u001b[1m452/452\u001b[0m \u001b[32m━━━━━━━━━━━━━━━━━━━━\u001b[0m\u001b[37m\u001b[0m \u001b[1m6s\u001b[0m 12ms/step - accuracy: 0.9816 - loss: 0.0302\nEpoch 16/100\n\u001b[1m452/452\u001b[0m \u001b[32m━━━━━━━━━━━━━━━━━━━━\u001b[0m\u001b[37m\u001b[0m \u001b[1m6s\u001b[0m 12ms/step - accuracy: 0.9847 - loss: 0.0226\nEpoch 17/100\n\u001b[1m452/452\u001b[0m \u001b[32m━━━━━━━━━━━━━━━━━━━━\u001b[0m\u001b[37m\u001b[0m \u001b[1m6s\u001b[0m 13ms/step - accuracy: 0.9865 - loss: 0.0207\nEpoch 18/100\n\u001b[1m452/452\u001b[0m \u001b[32m━━━━━━━━━━━━━━━━━━━━\u001b[0m\u001b[37m\u001b[0m \u001b[1m6s\u001b[0m 12ms/step - accuracy: 0.9858 - loss: 0.0203\nEpoch 19/100\n\u001b[1m452/452\u001b[0m \u001b[32m━━━━━━━━━━━━━━━━━━━━\u001b[0m\u001b[37m\u001b[0m \u001b[1m6s\u001b[0m 13ms/step - accuracy: 0.9863 - loss: 0.0197\nEpoch 20/100\n\u001b[1m452/452\u001b[0m \u001b[32m━━━━━━━━━━━━━━━━━━━━\u001b[0m\u001b[37m\u001b[0m \u001b[1m6s\u001b[0m 13ms/step - accuracy: 0.9864 - loss: 0.0176\nEpoch 21/100\n\u001b[1m452/452\u001b[0m \u001b[32m━━━━━━━━━━━━━━━━━━━━\u001b[0m\u001b[37m\u001b[0m \u001b[1m6s\u001b[0m 12ms/step - accuracy: 0.9845 - loss: 0.0199\nEpoch 22/100\n\u001b[1m452/452\u001b[0m \u001b[32m━━━━━━━━━━━━━━━━━━━━\u001b[0m\u001b[37m\u001b[0m \u001b[1m6s\u001b[0m 12ms/step - accuracy: 0.9870 - loss: 0.0183\nEpoch 23/100\n\u001b[1m452/452\u001b[0m \u001b[32m━━━━━━━━━━━━━━━━━━━━\u001b[0m\u001b[37m\u001b[0m \u001b[1m6s\u001b[0m 13ms/step - accuracy: 0.9870 - loss: 0.0190\nEpoch 24/100\n\u001b[1m452/452\u001b[0m \u001b[32m━━━━━━━━━━━━━━━━━━━━\u001b[0m\u001b[37m\u001b[0m \u001b[1m6s\u001b[0m 12ms/step - accuracy: 0.9878 - loss: 0.0162\nEpoch 25/100\n\u001b[1m452/452\u001b[0m \u001b[32m━━━━━━━━━━━━━━━━━━━━\u001b[0m\u001b[37m\u001b[0m \u001b[1m6s\u001b[0m 13ms/step - accuracy: 0.9892 - loss: 0.0140\nEpoch 26/100\n\u001b[1m452/452\u001b[0m \u001b[32m━━━━━━━━━━━━━━━━━━━━\u001b[0m\u001b[37m\u001b[0m \u001b[1m6s\u001b[0m 13ms/step - accuracy: 0.9885 - loss: 0.0153\nEpoch 27/100\n\u001b[1m452/452\u001b[0m \u001b[32m━━━━━━━━━━━━━━━━━━━━\u001b[0m\u001b[37m\u001b[0m \u001b[1m6s\u001b[0m 13ms/step - accuracy: 0.9877 - loss: 0.0156\nEpoch 28/100\n\u001b[1m452/452\u001b[0m \u001b[32m━━━━━━━━━━━━━━━━━━━━\u001b[0m\u001b[37m\u001b[0m \u001b[1m6s\u001b[0m 12ms/step - accuracy: 0.9901 - loss: 0.0130\nEpoch 29/100\n\u001b[1m452/452\u001b[0m \u001b[32m━━━━━━━━━━━━━━━━━━━━\u001b[0m\u001b[37m\u001b[0m \u001b[1m6s\u001b[0m 13ms/step - accuracy: 0.9886 - loss: 0.0138\nEpoch 30/100\n\u001b[1m452/452\u001b[0m \u001b[32m━━━━━━━━━━━━━━━━━━━━\u001b[0m\u001b[37m\u001b[0m \u001b[1m6s\u001b[0m 12ms/step - accuracy: 0.9903 - loss: 0.0133\nEpoch 31/100\n\u001b[1m452/452\u001b[0m \u001b[32m━━━━━━━━━━━━━━━━━━━━\u001b[0m\u001b[37m\u001b[0m \u001b[1m6s\u001b[0m 13ms/step - accuracy: 0.9881 - loss: 0.0149\nEpoch 32/100\n\u001b[1m452/452\u001b[0m \u001b[32m━━━━━━━━━━━━━━━━━━━━\u001b[0m\u001b[37m\u001b[0m \u001b[1m6s\u001b[0m 12ms/step - accuracy: 0.9889 - loss: 0.0142\nEpoch 33/100\n\u001b[1m452/452\u001b[0m \u001b[32m━━━━━━━━━━━━━━━━━━━━\u001b[0m\u001b[37m\u001b[0m \u001b[1m6s\u001b[0m 12ms/step - accuracy: 0.9887 - loss: 0.0182\nEpoch 34/100\n\u001b[1m452/452\u001b[0m \u001b[32m━━━━━━━━━━━━━━━━━━━━\u001b[0m\u001b[37m\u001b[0m \u001b[1m6s\u001b[0m 13ms/step - accuracy: 0.9882 - loss: 0.0162\nEpoch 35/100\n\u001b[1m452/452\u001b[0m \u001b[32m━━━━━━━━━━━━━━━━━━━━\u001b[0m\u001b[37m\u001b[0m \u001b[1m6s\u001b[0m 13ms/step - accuracy: 0.9895 - loss: 0.0123\nEpoch 36/100\n\u001b[1m452/452\u001b[0m \u001b[32m━━━━━━━━━━━━━━━━━━━━\u001b[0m\u001b[37m\u001b[0m \u001b[1m6s\u001b[0m 13ms/step - accuracy: 0.9892 - loss: 0.0141\nEpoch 37/100\n\u001b[1m452/452\u001b[0m \u001b[32m━━━━━━━━━━━━━━━━━━━━\u001b[0m\u001b[37m\u001b[0m \u001b[1m6s\u001b[0m 13ms/step - accuracy: 0.9895 - loss: 0.0131\nEpoch 38/100\n\u001b[1m452/452\u001b[0m \u001b[32m━━━━━━━━━━━━━━━━━━━━\u001b[0m\u001b[37m\u001b[0m \u001b[1m6s\u001b[0m 12ms/step - accuracy: 0.9897 - loss: 0.0124\nEpoch 39/100\n\u001b[1m452/452\u001b[0m \u001b[32m━━━━━━━━━━━━━━━━━━━━\u001b[0m\u001b[37m\u001b[0m \u001b[1m6s\u001b[0m 12ms/step - accuracy: 0.9886 - loss: 0.0129\nEpoch 40/100\n\u001b[1m452/452\u001b[0m \u001b[32m━━━━━━━━━━━━━━━━━━━━\u001b[0m\u001b[37m\u001b[0m \u001b[1m6s\u001b[0m 12ms/step - accuracy: 0.9909 - loss: 0.0101\nEpoch 41/100\n\u001b[1m452/452\u001b[0m \u001b[32m━━━━━━━━━━━━━━━━━━━━\u001b[0m\u001b[37m\u001b[0m \u001b[1m6s\u001b[0m 13ms/step - accuracy: 0.9893 - loss: 0.0146\nEpoch 42/100\n\u001b[1m452/452\u001b[0m \u001b[32m━━━━━━━━━━━━━━━━━━━━\u001b[0m\u001b[37m\u001b[0m \u001b[1m6s\u001b[0m 13ms/step - accuracy: 0.9881 - loss: 0.0140\nEpoch 43/100\n\u001b[1m452/452\u001b[0m \u001b[32m━━━━━━━━━━━━━━━━━━━━\u001b[0m\u001b[37m\u001b[0m \u001b[1m6s\u001b[0m 13ms/step - accuracy: 0.9886 - loss: 0.0148\nEpoch 44/100\n\u001b[1m452/452\u001b[0m \u001b[32m━━━━━━━━━━━━━━━━━━━━\u001b[0m\u001b[37m\u001b[0m \u001b[1m6s\u001b[0m 12ms/step - accuracy: 0.9892 - loss: 0.0128\nEpoch 45/100\n\u001b[1m452/452\u001b[0m \u001b[32m━━━━━━━━━━━━━━━━━━━━\u001b[0m\u001b[37m\u001b[0m \u001b[1m6s\u001b[0m 12ms/step - accuracy: 0.9906 - loss: 0.0120\nEpoch 46/100\n\u001b[1m452/452\u001b[0m \u001b[32m━━━━━━━━━━━━━━━━━━━━\u001b[0m\u001b[37m\u001b[0m \u001b[1m6s\u001b[0m 12ms/step - accuracy: 0.9896 - loss: 0.0108\nEpoch 47/100\n\u001b[1m452/452\u001b[0m \u001b[32m━━━━━━━━━━━━━━━━━━━━\u001b[0m\u001b[37m\u001b[0m \u001b[1m6s\u001b[0m 13ms/step - accuracy: 0.9897 - loss: 0.0107\nEpoch 48/100\n\u001b[1m452/452\u001b[0m \u001b[32m━━━━━━━━━━━━━━━━━━━━\u001b[0m\u001b[37m\u001b[0m \u001b[1m6s\u001b[0m 13ms/step - accuracy: 0.9895 - loss: 0.0115\nEpoch 49/100\n\u001b[1m452/452\u001b[0m \u001b[32m━━━━━━━━━━━━━━━━━━━━\u001b[0m\u001b[37m\u001b[0m \u001b[1m6s\u001b[0m 12ms/step - accuracy: 0.9890 - loss: 0.0135\nEpoch 50/100\n\u001b[1m452/452\u001b[0m \u001b[32m━━━━━━━━━━━━━━━━━━━━\u001b[0m\u001b[37m\u001b[0m \u001b[1m6s\u001b[0m 13ms/step - accuracy: 0.9890 - loss: 0.0124\nEpoch 51/100\n\u001b[1m452/452\u001b[0m \u001b[32m━━━━━━━━━━━━━━━━━━━━\u001b[0m\u001b[37m\u001b[0m \u001b[1m6s\u001b[0m 13ms/step - accuracy: 0.9889 - loss: 0.0122\nEpoch 52/100\n\u001b[1m452/452\u001b[0m \u001b[32m━━━━━━━━━━━━━━━━━━━━\u001b[0m\u001b[37m\u001b[0m \u001b[1m6s\u001b[0m 13ms/step - accuracy: 0.9907 - loss: 0.0114\nEpoch 53/100\n\u001b[1m452/452\u001b[0m \u001b[32m━━━━━━━━━━━━━━━━━━━━\u001b[0m\u001b[37m\u001b[0m \u001b[1m6s\u001b[0m 13ms/step - accuracy: 0.9892 - loss: 0.0123\nEpoch 54/100\n\u001b[1m452/452\u001b[0m \u001b[32m━━━━━━━━━━━━━━━━━━━━\u001b[0m\u001b[37m\u001b[0m \u001b[1m6s\u001b[0m 13ms/step - accuracy: 0.9881 - loss: 0.0122\nEpoch 55/100\n\u001b[1m452/452\u001b[0m \u001b[32m━━━━━━━━━━━━━━━━━━━━\u001b[0m\u001b[37m\u001b[0m \u001b[1m6s\u001b[0m 13ms/step - accuracy: 0.9898 - loss: 0.0117\nEpoch 56/100\n\u001b[1m452/452\u001b[0m \u001b[32m━━━━━━━━━━━━━━━━━━━━\u001b[0m\u001b[37m\u001b[0m \u001b[1m6s\u001b[0m 13ms/step - accuracy: 0.9896 - loss: 0.0125\nEpoch 57/100\n\u001b[1m452/452\u001b[0m \u001b[32m━━━━━━━━━━━━━━━━━━━━\u001b[0m\u001b[37m\u001b[0m \u001b[1m6s\u001b[0m 12ms/step - accuracy: 0.9886 - loss: 0.0125\nEpoch 58/100\n\u001b[1m452/452\u001b[0m \u001b[32m━━━━━━━━━━━━━━━━━━━━\u001b[0m\u001b[37m\u001b[0m \u001b[1m6s\u001b[0m 13ms/step - accuracy: 0.9897 - loss: 0.0108\nEpoch 59/100\n\u001b[1m452/452\u001b[0m \u001b[32m━━━━━━━━━━━━━━━━━━━━\u001b[0m\u001b[37m\u001b[0m \u001b[1m6s\u001b[0m 13ms/step - accuracy: 0.9896 - loss: 0.0106\nEpoch 60/100\n\u001b[1m452/452\u001b[0m \u001b[32m━━━━━━━━━━━━━━━━━━━━\u001b[0m\u001b[37m\u001b[0m \u001b[1m6s\u001b[0m 12ms/step - accuracy: 0.9904 - loss: 0.0110\nEpoch 61/100\n\u001b[1m452/452\u001b[0m \u001b[32m━━━━━━━━━━━━━━━━━━━━\u001b[0m\u001b[37m\u001b[0m \u001b[1m6s\u001b[0m 13ms/step - accuracy: 0.9918 - loss: 0.0086\nEpoch 62/100\n\u001b[1m452/452\u001b[0m \u001b[32m━━━━━━━━━━━━━━━━━━━━\u001b[0m\u001b[37m\u001b[0m \u001b[1m6s\u001b[0m 13ms/step - accuracy: 0.9918 - loss: 0.0097\nEpoch 63/100\n\u001b[1m452/452\u001b[0m \u001b[32m━━━━━━━━━━━━━━━━━━━━\u001b[0m\u001b[37m\u001b[0m \u001b[1m6s\u001b[0m 13ms/step - accuracy: 0.9901 - loss: 0.0105\nEpoch 64/100\n\u001b[1m452/452\u001b[0m \u001b[32m━━━━━━━━━━━━━━━━━━━━\u001b[0m\u001b[37m\u001b[0m \u001b[1m6s\u001b[0m 13ms/step - accuracy: 0.9902 - loss: 0.0111\nEpoch 65/100\n\u001b[1m452/452\u001b[0m \u001b[32m━━━━━━━━━━━━━━━━━━━━\u001b[0m\u001b[37m\u001b[0m \u001b[1m6s\u001b[0m 12ms/step - accuracy: 0.9905 - loss: 0.0105\nEpoch 66/100\n\u001b[1m452/452\u001b[0m \u001b[32m━━━━━━━━━━━━━━━━━━━━\u001b[0m\u001b[37m\u001b[0m \u001b[1m6s\u001b[0m 13ms/step - accuracy: 0.9904 - loss: 0.0108\nEpoch 67/100\n\u001b[1m452/452\u001b[0m \u001b[32m━━━━━━━━━━━━━━━━━━━━\u001b[0m\u001b[37m\u001b[0m \u001b[1m6s\u001b[0m 13ms/step - accuracy: 0.9905 - loss: 0.0100\nEpoch 68/100\n\u001b[1m452/452\u001b[0m \u001b[32m━━━━━━━━━━━━━━━━━━━━\u001b[0m\u001b[37m\u001b[0m \u001b[1m6s\u001b[0m 13ms/step - accuracy: 0.9915 - loss: 0.0106\nEpoch 69/100\n\u001b[1m452/452\u001b[0m \u001b[32m━━━━━━━━━━━━━━━━━━━━\u001b[0m\u001b[37m\u001b[0m \u001b[1m6s\u001b[0m 13ms/step - accuracy: 0.9891 - loss: 0.0114\nEpoch 70/100\n\u001b[1m452/452\u001b[0m \u001b[32m━━━━━━━━━━━━━━━━━━━━\u001b[0m\u001b[37m\u001b[0m \u001b[1m6s\u001b[0m 12ms/step - accuracy: 0.9903 - loss: 0.0096\nEpoch 71/100\n\u001b[1m452/452\u001b[0m \u001b[32m━━━━━━━━━━━━━━━━━━━━\u001b[0m\u001b[37m\u001b[0m \u001b[1m6s\u001b[0m 12ms/step - accuracy: 0.9922 - loss: 0.0100\nEpoch 72/100\n\u001b[1m452/452\u001b[0m \u001b[32m━━━━━━━━━━━━━━━━━━━━\u001b[0m\u001b[37m\u001b[0m \u001b[1m6s\u001b[0m 12ms/step - accuracy: 0.9911 - loss: 0.0095\nEpoch 73/100\n\u001b[1m452/452\u001b[0m \u001b[32m━━━━━━━━━━━━━━━━━━━━\u001b[0m\u001b[37m\u001b[0m \u001b[1m6s\u001b[0m 13ms/step - accuracy: 0.9931 - loss: 0.0090\nEpoch 74/100\n\u001b[1m452/452\u001b[0m \u001b[32m━━━━━━━━━━━━━━━━━━━━\u001b[0m\u001b[37m\u001b[0m \u001b[1m6s\u001b[0m 12ms/step - accuracy: 0.9898 - loss: 0.0101\nEpoch 75/100\n\u001b[1m452/452\u001b[0m \u001b[32m━━━━━━━━━━━━━━━━━━━━\u001b[0m\u001b[37m\u001b[0m \u001b[1m6s\u001b[0m 13ms/step - accuracy: 0.9899 - loss: 0.0109\nEpoch 76/100\n\u001b[1m452/452\u001b[0m \u001b[32m━━━━━━━━━━━━━━━━━━━━\u001b[0m\u001b[37m\u001b[0m \u001b[1m6s\u001b[0m 13ms/step - accuracy: 0.9887 - loss: 0.0146\nEpoch 77/100\n\u001b[1m452/452\u001b[0m \u001b[32m━━━━━━━━━━━━━━━━━━━━\u001b[0m\u001b[37m\u001b[0m \u001b[1m6s\u001b[0m 12ms/step - accuracy: 0.9904 - loss: 0.0108\nEpoch 78/100\n\u001b[1m452/452\u001b[0m \u001b[32m━━━━━━━━━━━━━━━━━━━━\u001b[0m\u001b[37m\u001b[0m \u001b[1m6s\u001b[0m 12ms/step - accuracy: 0.9918 - loss: 0.0094\nEpoch 79/100\n\u001b[1m452/452\u001b[0m \u001b[32m━━━━━━━━━━━━━━━━━━━━\u001b[0m\u001b[37m\u001b[0m \u001b[1m6s\u001b[0m 12ms/step - accuracy: 0.9897 - loss: 0.0098\nEpoch 80/100\n\u001b[1m452/452\u001b[0m \u001b[32m━━━━━━━━━━━━━━━━━━━━\u001b[0m\u001b[37m\u001b[0m \u001b[1m6s\u001b[0m 13ms/step - accuracy: 0.9896 - loss: 0.0097\nEpoch 81/100\n\u001b[1m452/452\u001b[0m \u001b[32m━━━━━━━━━━━━━━━━━━━━\u001b[0m\u001b[37m\u001b[0m \u001b[1m6s\u001b[0m 13ms/step - accuracy: 0.9899 - loss: 0.0101\nEpoch 82/100\n\u001b[1m452/452\u001b[0m \u001b[32m━━━━━━━━━━━━━━━━━━━━\u001b[0m\u001b[37m\u001b[0m \u001b[1m6s\u001b[0m 13ms/step - accuracy: 0.9892 - loss: 0.0106\nEpoch 83/100\n\u001b[1m452/452\u001b[0m \u001b[32m━━━━━━━━━━━━━━━━━━━━\u001b[0m\u001b[37m\u001b[0m \u001b[1m6s\u001b[0m 13ms/step - accuracy: 0.9898 - loss: 0.0105\nEpoch 84/100\n\u001b[1m452/452\u001b[0m \u001b[32m━━━━━━━━━━━━━━━━━━━━\u001b[0m\u001b[37m\u001b[0m \u001b[1m6s\u001b[0m 13ms/step - accuracy: 0.9901 - loss: 0.0098\nEpoch 85/100\n\u001b[1m452/452\u001b[0m \u001b[32m━━━━━━━━━━━━━━━━━━━━\u001b[0m\u001b[37m\u001b[0m \u001b[1m6s\u001b[0m 12ms/step - accuracy: 0.9909 - loss: 0.0105\nEpoch 86/100\n\u001b[1m452/452\u001b[0m \u001b[32m━━━━━━━━━━━━━━━━━━━━\u001b[0m\u001b[37m\u001b[0m \u001b[1m6s\u001b[0m 13ms/step - accuracy: 0.9893 - loss: 0.0117\nEpoch 87/100\n\u001b[1m452/452\u001b[0m \u001b[32m━━━━━━━━━━━━━━━━━━━━\u001b[0m\u001b[37m\u001b[0m \u001b[1m6s\u001b[0m 13ms/step - accuracy: 0.9910 - loss: 0.0090\nEpoch 88/100\n\u001b[1m452/452\u001b[0m \u001b[32m━━━━━━━━━━━━━━━━━━━━\u001b[0m\u001b[37m\u001b[0m \u001b[1m6s\u001b[0m 13ms/step - accuracy: 0.9906 - loss: 0.0102\nEpoch 89/100\n\u001b[1m452/452\u001b[0m \u001b[32m━━━━━━━━━━━━━━━━━━━━\u001b[0m\u001b[37m\u001b[0m \u001b[1m6s\u001b[0m 13ms/step - accuracy: 0.9902 - loss: 0.0103\nEpoch 90/100\n\u001b[1m452/452\u001b[0m \u001b[32m━━━━━━━━━━━━━━━━━━━━\u001b[0m\u001b[37m\u001b[0m \u001b[1m6s\u001b[0m 12ms/step - accuracy: 0.9915 - loss: 0.0097\nEpoch 91/100\n\u001b[1m452/452\u001b[0m \u001b[32m━━━━━━━━━━━━━━━━━━━━\u001b[0m\u001b[37m\u001b[0m \u001b[1m6s\u001b[0m 13ms/step - accuracy: 0.9913 - loss: 0.0093\nEpoch 92/100\n\u001b[1m452/452\u001b[0m \u001b[32m━━━━━━━━━━━━━━━━━━━━\u001b[0m\u001b[37m\u001b[0m \u001b[1m6s\u001b[0m 13ms/step - accuracy: 0.9919 - loss: 0.0098\nEpoch 93/100\n\u001b[1m452/452\u001b[0m \u001b[32m━━━━━━━━━━━━━━━━━━━━\u001b[0m\u001b[37m\u001b[0m \u001b[1m6s\u001b[0m 12ms/step - accuracy: 0.9908 - loss: 0.0092\nEpoch 94/100\n\u001b[1m452/452\u001b[0m \u001b[32m━━━━━━━━━━━━━━━━━━━━\u001b[0m\u001b[37m\u001b[0m \u001b[1m6s\u001b[0m 12ms/step - accuracy: 0.9915 - loss: 0.0100\nEpoch 95/100\n\u001b[1m452/452\u001b[0m \u001b[32m━━━━━━━━━━━━━━━━━━━━\u001b[0m\u001b[37m\u001b[0m \u001b[1m6s\u001b[0m 12ms/step - accuracy: 0.9916 - loss: 0.0096\nEpoch 96/100\n\u001b[1m452/452\u001b[0m \u001b[32m━━━━━━━━━━━━━━━━━━━━\u001b[0m\u001b[37m\u001b[0m \u001b[1m6s\u001b[0m 13ms/step - accuracy: 0.9918 - loss: 0.0102\nEpoch 97/100\n\u001b[1m452/452\u001b[0m \u001b[32m━━━━━━━━━━━━━━━━━━━━\u001b[0m\u001b[37m\u001b[0m \u001b[1m6s\u001b[0m 13ms/step - accuracy: 0.9911 - loss: 0.0109\nEpoch 98/100\n\u001b[1m452/452\u001b[0m \u001b[32m━━━━━━━━━━━━━━━━━━━━\u001b[0m\u001b[37m\u001b[0m \u001b[1m6s\u001b[0m 12ms/step - accuracy: 0.9887 - loss: 0.0122\nEpoch 99/100\n\u001b[1m452/452\u001b[0m \u001b[32m━━━━━━━━━━━━━━━━━━━━\u001b[0m\u001b[37m\u001b[0m \u001b[1m6s\u001b[0m 12ms/step - accuracy: 0.9899 - loss: 0.0120\nEpoch 100/100\n\u001b[1m452/452\u001b[0m \u001b[32m━━━━━━━━━━━━━━━━━━━━\u001b[0m\u001b[37m\u001b[0m \u001b[1m6s\u001b[0m 12ms/step - accuracy: 0.9915 - loss: 0.0098\n",
          "output_type": "stream"
        },
        {
          "execution_count": 26,
          "output_type": "execute_result",
          "data": {
            "text/plain": "<keras.src.callbacks.history.History at 0x7c8bb9a18490>"
          },
          "metadata": {}
        }
      ]
    },
    {
      "cell_type": "code",
      "source": [
        "from sklearn.metrics import classification_report, f1_score, accuracy_score, confusion_matrix\n",
        "accr = model.evaluate(x_test,y_test)\n",
        "print('Test set\\n  Loss: {:0.3f}\\n  Accuracy: {:0.3f} %'.format(accr[0],accr[1]*100))"
      ],
      "metadata": {
        "execution": {
          "iopub.status.busy": "2024-04-18T17:45:34.276532Z",
          "iopub.execute_input": "2024-04-18T17:45:34.277162Z",
          "iopub.status.idle": "2024-04-18T17:45:35.020913Z",
          "shell.execute_reply.started": "2024-04-18T17:45:34.277122Z",
          "shell.execute_reply": "2024-04-18T17:45:35.019985Z"
        },
        "trusted": true,
        "id": "pFtRWrh_PSEH",
        "outputId": "4c009157-eb84-442b-cd90-9e683efefff7"
      },
      "execution_count": null,
      "outputs": [
        {
          "name": "stdout",
          "text": "\u001b[1m80/80\u001b[0m \u001b[32m━━━━━━━━━━━━━━━━━━━━\u001b[0m\u001b[37m\u001b[0m \u001b[1m1s\u001b[0m 6ms/step - accuracy: 0.5085 - loss: 3.1984\nTest set\n  Loss: 3.150\n  Accuracy: 51.608 %\n",
          "output_type": "stream"
        }
      ]
    },
    {
      "cell_type": "code",
      "source": [],
      "metadata": {
        "id": "RSXGRc5pPSEH"
      },
      "execution_count": null,
      "outputs": []
    }
  ]
}